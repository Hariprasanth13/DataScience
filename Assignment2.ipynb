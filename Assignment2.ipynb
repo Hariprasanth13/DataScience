{
 "cells": [
  {
   "cell_type": "code",
   "execution_count": null,
   "id": "60f3d6f1-4417-40d1-a4e9-ca2879c4d884",
   "metadata": {},
   "outputs": [],
   "source": [
    "#Prime number \n",
    "count=0\n",
    "for i in pno:\n",
    "    for j in range(2,i):\n",
    "        if i%j == 0:\n",
    "            count=1\n",
    "    if count<1:\n",
    "        print(i)\n",
    "    count=0\n",
    "        "
   ]
  },
  {
   "cell_type": "code",
   "execution_count": null,
   "id": "85d3e64a-5395-41cc-8f42-37f362dac039",
   "metadata": {},
   "outputs": [],
   "source": [
    "#Prime number using list comprehension\n",
    "[n  for n in pno if all( n%j!=0 for j in range(2,n))] "
   ]
  }
 ],
 "metadata": {
  "kernelspec": {
   "display_name": "Python 3 (ipykernel)",
   "language": "python",
   "name": "python3"
  },
  "language_info": {
   "codemirror_mode": {
    "name": "ipython",
    "version": 3
   },
   "file_extension": ".py",
   "mimetype": "text/x-python",
   "name": "python",
   "nbconvert_exporter": "python",
   "pygments_lexer": "ipython3",
   "version": "3.10.8"
  }
 },
 "nbformat": 4,
 "nbformat_minor": 5
}
