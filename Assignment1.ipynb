{
 "cells": [
  {
   "cell_type": "code",
   "execution_count": 1,
   "id": "90572200-d81b-47f3-ae84-9be492197693",
   "metadata": {},
   "outputs": [
    {
     "name": "stdin",
     "output_type": "stream",
     "text": [
      "Enter the no of iterations 3\n"
     ]
    },
    {
     "name": "stdout",
     "output_type": "stream",
     "text": [
      "\n",
      "\n",
      "  * \n",
      "\n",
      " * * \n",
      "\n",
      "* * * "
     ]
    }
   ],
   "source": [
    "n=int(input(\"Enter the no of iterations\"))\n",
    "\n",
    "for x in range(n,0,-1):\n",
    "    print(\"\\n\")\n",
    "    for y in range(x-1,0,-1):\n",
    "        print(\" \",end=\"\")\n",
    "    z=(n-x)+1\n",
    "    for a in range(0,z):\n",
    "        print(\"*\", end=\"\") \n",
    "        print(\" \",end=\"\")\n"
   ]
  },
  {
   "cell_type": "code",
   "execution_count": null,
   "id": "2fafa76a-6b53-4812-a230-53d4e5bcc82a",
   "metadata": {},
   "outputs": [],
   "source": []
  }
 ],
 "metadata": {
  "kernelspec": {
   "display_name": "Python 3 (ipykernel)",
   "language": "python",
   "name": "python3"
  },
  "language_info": {
   "codemirror_mode": {
    "name": "ipython",
    "version": 3
   },
   "file_extension": ".py",
   "mimetype": "text/x-python",
   "name": "python",
   "nbconvert_exporter": "python",
   "pygments_lexer": "ipython3",
   "version": "3.10.8"
  }
 },
 "nbformat": 4,
 "nbformat_minor": 5
}
