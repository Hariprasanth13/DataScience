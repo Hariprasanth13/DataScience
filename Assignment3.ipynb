{
 "cells": [
  {
   "cell_type": "code",
   "execution_count": null,
   "id": "1af13c3d-99d7-467c-8675-cd04390a3729",
   "metadata": {},
   "outputs": [],
   "source": [
    "#Combination of all the elements in a list\n",
    "lst=[1,2,3,4]\n",
    "[[lst[i],lst[j]] for i in range(len(lst)+1) for j in range(i+1,len(lst))]"
   ]
  }
 ],
 "metadata": {
  "kernelspec": {
   "display_name": "Python 3 (ipykernel)",
   "language": "python",
   "name": "python3"
  },
  "language_info": {
   "codemirror_mode": {
    "name": "ipython",
    "version": 3
   },
   "file_extension": ".py",
   "mimetype": "text/x-python",
   "name": "python",
   "nbconvert_exporter": "python",
   "pygments_lexer": "ipython3",
   "version": "3.10.8"
  }
 },
 "nbformat": 4,
 "nbformat_minor": 5
}
